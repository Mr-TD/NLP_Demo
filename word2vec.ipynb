{
  "nbformat": 4,
  "nbformat_minor": 0,
  "metadata": {
    "colab": {
      "name": "word2vec.ipynb",
      "provenance": []
    },
    "kernelspec": {
      "name": "python3",
      "display_name": "Python 3"
    }
  },
  "cells": [
    {
      "cell_type": "code",
      "metadata": {
        "id": "QLjS4qBYGC9p",
        "colab_type": "code",
        "colab": {}
      },
      "source": [
        "import nltk\n",
        "from gensim.models import Word2Vec\n",
        "from nltk.corpus import stopwords\n",
        "import re"
      ],
      "execution_count": 0,
      "outputs": []
    },
    {
      "cell_type": "code",
      "metadata": {
        "id": "T_UjqFRUGTph",
        "colab_type": "code",
        "colab": {}
      },
      "source": [
        "paragraph = \"\"\"I have three visions for India. In 3000 years of our history, people from all over \n",
        "               the world have come and invaded us, captured our lands, conquered our minds. \n",
        "               From Alexander onwards, the Greeks, the Turks, the Moguls, the Portuguese, the British,\n",
        "               the French, the Dutch, all of them came and looted us, took over what was ours. \n",
        "               Yet we have not done this to any other nation. We have not conquered anyone. \n",
        "               We have not grabbed their land, their culture, \n",
        "               their history and tried to enforce our way of life on them. \n",
        "               Why? Because we respect the freedom of others.That is why my \n",
        "               first vision is that of freedom. I believe that India got its first vision of \n",
        "               this in 1857, when we started the War of Independence. It is this freedom that\n",
        "               we must protect and nurture and build on. If we are not free, no one will respect us.\n",
        "               My second vision for India’s development. For fifty years we have been a developing nation.\n",
        "               It is time we see ourselves as a developed nation. We are among the top 5 nations of the world\n",
        "               in terms of GDP. We have a 10 percent growth rate in most areas. Our poverty levels are falling.\n",
        "               Our achievements are being globally recognised today. Yet we lack the self-confidence to\n",
        "               see ourselves as a developed nation, self-reliant and self-assured. Isn’t this incorrect?\n",
        "               I have a third vision. India must stand up to the world. Because I believe that unless India \n",
        "               stands up to the world, no one will respect us. Only strength respects strength. We must be \n",
        "               strong not only as a military power but also as an economic power. Both must go hand-in-hand. \n",
        "               My good fortune was to have worked with three great minds. Dr. Vikram Sarabhai of the Dept. of \n",
        "               space, Professor Satish Dhawan, who succeeded him and Dr. Brahm Prakash, father of nuclear material.\n",
        "               I was lucky to have worked with all three of them closely and consider this the great opportunity of my life. \n",
        "               I see four milestones in my career\"\"\"\n"
      ],
      "execution_count": 0,
      "outputs": []
    },
    {
      "cell_type": "code",
      "metadata": {
        "id": "lbM3SK-aGYbV",
        "colab_type": "code",
        "colab": {}
      },
      "source": [
        "# Preprocessing the data\n",
        "text = re.sub(r'\\[[0-9]*\\]', ' ', paragraph)\n",
        "text = re.sub(r'\\s+', ' ', text)\n",
        "text = text.lower()\n",
        "text = re.sub(r'\\d', ' ', text)\n",
        "text = re.sub(r'\\s+', ' ', text)\n"
      ],
      "execution_count": 0,
      "outputs": []
    },
    {
      "cell_type": "code",
      "metadata": {
        "id": "FqWFp4r4Gg6a",
        "colab_type": "code",
        "colab": {
          "base_uri": "https://localhost:8080/",
          "height": 104
        },
        "outputId": "db0525fa-2158-435c-f4c4-49ad06ee12a0"
      },
      "source": [
        "nltk.download('punkt')\n",
        "nltk.download('stopwords')"
      ],
      "execution_count": 8,
      "outputs": [
        {
          "output_type": "stream",
          "text": [
            "[nltk_data] Downloading package punkt to /root/nltk_data...\n",
            "[nltk_data]   Package punkt is already up-to-date!\n",
            "[nltk_data] Downloading package stopwords to /root/nltk_data...\n",
            "[nltk_data]   Unzipping corpora/stopwords.zip.\n"
          ],
          "name": "stdout"
        },
        {
          "output_type": "execute_result",
          "data": {
            "text/plain": [
              "True"
            ]
          },
          "metadata": {
            "tags": []
          },
          "execution_count": 8
        }
      ]
    },
    {
      "cell_type": "code",
      "metadata": {
        "id": "gytRnmFPGcTh",
        "colab_type": "code",
        "colab": {}
      },
      "source": [
        "# Preparing the dataset\n",
        "sentences = nltk.sent_tokenize(text)\n",
        "sentences = [nltk.word_tokenize(sentence) for sentence in sentences]"
      ],
      "execution_count": 0,
      "outputs": []
    },
    {
      "cell_type": "code",
      "metadata": {
        "id": "WXWwzoNhGm19",
        "colab_type": "code",
        "colab": {}
      },
      "source": [
        "for i in range(len(sentences)):\n",
        "    sentences[i] = [word for word in sentences[i] if word not in stopwords.words('english')]\n"
      ],
      "execution_count": 0,
      "outputs": []
    },
    {
      "cell_type": "code",
      "metadata": {
        "id": "YiggQXLgGtcR",
        "colab_type": "code",
        "colab": {}
      },
      "source": [
        "# Training the Word2Vec model\n",
        "model = Word2Vec(sentences, min_count=1)\n",
        "words = model.wv.vocab\n"
      ],
      "execution_count": 0,
      "outputs": []
    },
    {
      "cell_type": "code",
      "metadata": {
        "id": "ED21P-LSGzph",
        "colab_type": "code",
        "colab": {}
      },
      "source": [
        "# Finding Word Vectors\n",
        "vector = model.wv['war']"
      ],
      "execution_count": 0,
      "outputs": []
    },
    {
      "cell_type": "code",
      "metadata": {
        "id": "dlSQcFENG6-J",
        "colab_type": "code",
        "colab": {
          "base_uri": "https://localhost:8080/",
          "height": 468
        },
        "outputId": "46ea3bd8-4aaa-4a4a-828b-ebb3297a3159"
      },
      "source": [
        "vector"
      ],
      "execution_count": 15,
      "outputs": [
        {
          "output_type": "execute_result",
          "data": {
            "text/plain": [
              "array([-3.3235094e-03, -9.4258001e-05, -2.0640220e-03, -3.8924855e-03,\n",
              "        3.6129725e-04,  4.7787344e-03,  1.9323728e-03,  3.8377808e-03,\n",
              "       -3.6230369e-03, -1.2499141e-03,  3.2462480e-03,  4.1170437e-03,\n",
              "       -3.7336757e-03,  4.9512759e-03, -1.2908190e-03, -9.0946502e-04,\n",
              "       -4.1586766e-03, -2.0704695e-03, -4.1620904e-03, -2.2294871e-03,\n",
              "       -4.6116230e-03, -3.0206435e-03, -2.1121847e-03,  1.4617176e-03,\n",
              "        1.3339804e-03,  3.5959035e-03, -3.9889994e-03,  3.9695408e-03,\n",
              "       -4.3017333e-03,  2.5849306e-04,  9.8761905e-04, -5.6827563e-04,\n",
              "       -8.9974969e-04, -3.2612907e-03,  4.3166708e-03, -4.1439934e-03,\n",
              "        4.0163454e-03,  2.3270452e-03, -1.8122209e-03,  2.1327750e-03,\n",
              "       -4.7019105e-03,  4.4953213e-03, -2.0406947e-03,  1.8850071e-03,\n",
              "       -3.8625752e-03,  4.9470266e-04, -3.3901029e-03, -4.0960438e-03,\n",
              "        2.8696223e-03,  1.1298233e-03,  6.6790904e-04,  1.3840226e-04,\n",
              "       -3.1355689e-03, -4.4752494e-03,  4.8809974e-03, -2.3390451e-03,\n",
              "        4.5845476e-03,  2.5588775e-03,  1.0775090e-03, -6.9625385e-04,\n",
              "       -4.8043188e-03,  1.6388841e-03, -3.8185653e-03,  4.6937694e-03,\n",
              "        8.9563511e-04, -3.4988339e-03,  8.9476130e-04, -3.6605126e-03,\n",
              "       -2.5244309e-03,  3.7366790e-03, -4.5039197e-03, -4.0372130e-03,\n",
              "        3.0472316e-03,  1.4603600e-03,  2.9214730e-03,  1.8268568e-03,\n",
              "        4.5221709e-03,  8.4389013e-04, -1.9925485e-04,  1.3777619e-03,\n",
              "        6.8148004e-04, -1.2488371e-03, -9.7037171e-04,  1.7801417e-03,\n",
              "        4.7627189e-03, -4.5013330e-03,  4.1782339e-03,  4.0219692e-03,\n",
              "        1.6308840e-03, -4.9014026e-03, -5.7838118e-04, -6.1903766e-04,\n",
              "        1.5073912e-03,  3.6235771e-03, -3.5944041e-03, -2.4377424e-04,\n",
              "        3.9441120e-03,  1.6157477e-03, -2.5133239e-03,  3.1680868e-03],\n",
              "      dtype=float32)"
            ]
          },
          "metadata": {
            "tags": []
          },
          "execution_count": 15
        }
      ]
    },
    {
      "cell_type": "code",
      "metadata": {
        "id": "glYPXudfG0_Z",
        "colab_type": "code",
        "colab": {
          "base_uri": "https://localhost:8080/",
          "height": 72
        },
        "outputId": "519869cf-c7d5-49f1-9379-9a7df0fc7c35"
      },
      "source": [
        "# Most similar words\n",
        "similar = model.wv.most_similar('vikram')"
      ],
      "execution_count": 13,
      "outputs": [
        {
          "output_type": "stream",
          "text": [
            "/usr/local/lib/python3.6/dist-packages/gensim/matutils.py:737: FutureWarning: Conversion of the second argument of issubdtype from `int` to `np.signedinteger` is deprecated. In future, it will be treated as `np.int64 == np.dtype(int).type`.\n",
            "  if np.issubdtype(vec.dtype, np.int):\n"
          ],
          "name": "stderr"
        }
      ]
    },
    {
      "cell_type": "code",
      "metadata": {
        "id": "MW5InpyCG4re",
        "colab_type": "code",
        "colab": {
          "base_uri": "https://localhost:8080/",
          "height": 191
        },
        "outputId": "5ded71bc-8b4e-4c05-c433-d80b60c85ee6"
      },
      "source": [
        "similar"
      ],
      "execution_count": 14,
      "outputs": [
        {
          "output_type": "execute_result",
          "data": {
            "text/plain": [
              "[('dutch', 0.26730644702911377),\n",
              " ('three', 0.20387862622737885),\n",
              " ('protect', 0.1956527829170227),\n",
              " ('lack', 0.18305975198745728),\n",
              " ('portuguese', 0.1714978963136673),\n",
              " ('fifty', 0.14969825744628906),\n",
              " ('development', 0.1489761769771576),\n",
              " ('dhawan', 0.14581823348999023),\n",
              " ('come', 0.1371403932571411),\n",
              " (',', 0.1312231719493866)]"
            ]
          },
          "metadata": {
            "tags": []
          },
          "execution_count": 14
        }
      ]
    }
  ]
}